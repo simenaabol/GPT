{
 "cells": [
  {
   "cell_type": "markdown",
   "metadata": {},
   "source": [
    "Info om modell:\n",
    "\n",
    "https://huggingface.co/ltg/norbert3-base\n"
   ]
  },
  {
   "cell_type": "markdown",
   "metadata": {},
   "source": [
    "Installations:\n",
    "Using Python 3.11.6\n",
    "\n",
    "python3.11 -m pip install torch\n",
    "python3.11 -m pip install transformers\n",
    "python3.11 -m pip install sentencepiece"
   ]
  },
  {
   "cell_type": "code",
   "execution_count": 7,
   "metadata": {},
   "outputs": [
    {
     "name": "stderr",
     "output_type": "stream",
     "text": [
      "tokenizer_config.json: 100%|██████████| 51.0/51.0 [00:00<00:00, 515kB/s]\n",
      "tokenizer.json: 100%|██████████| 1.26M/1.26M [00:00<00:00, 1.95MB/s]\n",
      "special_tokens_map.json: 100%|██████████| 157/157 [00:00<00:00, 1.98MB/s]\n",
      "config.json: 100%|██████████| 952/952 [00:00<00:00, 7.55MB/s]\n",
      "configuration_nort5.py: 100%|██████████| 1.55k/1.55k [00:00<00:00, 18.0MB/s]\n",
      "A new version of the following files was downloaded from https://huggingface.co/ltg/nort5-large-lm:\n",
      "- configuration_nort5.py\n",
      ". Make sure to double-check they do not contain any added malicious code. To avoid downloading new versions of the code file, you can pin a revision.\n",
      "modeling_nort5.py: 100%|██████████| 31.4k/31.4k [00:00<00:00, 26.0MB/s]\n",
      "A new version of the following files was downloaded from https://huggingface.co/ltg/nort5-large-lm:\n",
      "- modeling_nort5.py\n",
      ". Make sure to double-check they do not contain any added malicious code. To avoid downloading new versions of the code file, you can pin a revision.\n",
      "pytorch_model.bin: 100%|██████████| 3.38G/3.38G [08:09<00:00, 6.91MB/s]\n",
      "generation_config.json: 100%|██████████| 148/148 [00:00<00:00, 943kB/s]\n"
     ]
    }
   ],
   "source": [
    "import torch\n",
    "from transformers import AutoTokenizer, AutoModelForQuestionAnswering\n",
    "\n",
    "from transformers import AutoTokenizer, AutoModelForSeq2SeqLM\n",
    "\n",
    "\n",
    "tokenizer = AutoTokenizer.from_pretrained(\"ltg/nort5-large-lm\")\n",
    "model = AutoModelForSeq2SeqLM.from_pretrained(\"ltg/nort5-large-lm\", trust_remote_code=True)\n",
    "\n"
   ]
  },
  {
   "cell_type": "code",
   "execution_count": 14,
   "metadata": {},
   "outputs": [
    {
     "data": {
      "text/plain": [
       "'[BOS]                                                  '"
      ]
     },
     "execution_count": 14,
     "metadata": {},
     "output_type": "execute_result"
    }
   ],
   "source": [
    "sentence = \"Hva bør man huske på når man går tur i skogen \"\n",
    "# sentence = \"Brukseksempel: Elektrisk oppvarming. Definisjonen på ordet oppvarming er (Wikipedia) \"\n",
    "encoding = tokenizer(sentence)\n",
    "\n",
    "input_tensor = torch.tensor([encoding.input_ids])\n",
    "output_tensor = model.generate(input_tensor, max_new_tokens=50, num_beams=4, do_sample=False)\n",
    "tokenizer.decode(output_tensor.squeeze())\n"
   ]
  }
 ],
 "metadata": {
  "kernelspec": {
   "display_name": "Python 3",
   "language": "python",
   "name": "python3"
  },
  "language_info": {
   "codemirror_mode": {
    "name": "ipython",
    "version": 3
   },
   "file_extension": ".py",
   "mimetype": "text/x-python",
   "name": "python",
   "nbconvert_exporter": "python",
   "pygments_lexer": "ipython3",
   "version": "3.11.6"
  },
  "orig_nbformat": 4
 },
 "nbformat": 4,
 "nbformat_minor": 2
}
