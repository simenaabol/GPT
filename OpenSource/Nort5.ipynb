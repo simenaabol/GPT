{
 "cells": [
  {
   "cell_type": "markdown",
   "metadata": {},
   "source": [
    "Info om modell:\n",
    "\n",
    "https://huggingface.co/ltg/norbert3-base\n"
   ]
  },
  {
   "cell_type": "markdown",
   "metadata": {},
   "source": [
    "Installations:\n",
    "Using Python 3.11.6\n",
    "\n",
    "python3.11 -m pip install torch\n",
    "python3.11 -m pip install transformers\n",
    "python3.11 -m pip install sentencepiece"
   ]
  },
  {
   "cell_type": "code",
   "execution_count": 4,
   "metadata": {},
   "outputs": [
    {
     "name": "stderr",
     "output_type": "stream",
     "text": [
      "modeling_nort5.py: 100%|██████████| 31.4k/31.4k [00:00<00:00, 49.6MB/s]\n",
      "A new version of the following files was downloaded from https://huggingface.co/ltg/nort5-large:\n",
      "- modeling_nort5.py\n",
      ". Make sure to double-check they do not contain any added malicious code. To avoid downloading new versions of the code file, you can pin a revision.\n",
      "pytorch_model.bin: 100%|██████████| 3.38G/3.38G [06:44<00:00, 8.36MB/s]\n",
      "generation_config.json: 100%|██████████| 148/148 [00:00<00:00, 1.65MB/s]"
     ]
    },
    {
     "name": "stdout",
     "output_type": "stream",
     "text": [
      "NorT5ForConditionalGeneration(\n",
      "  (embedding): WordEmbedding(\n",
      "    (word_embedding): Embedding(50000, 1024)\n",
      "    (word_layer_norm): LayerNorm((1024,), eps=1e-07, elementwise_affine=False)\n",
      "    (dropout): Dropout(p=0.0, inplace=False)\n",
      "  )\n",
      "  (encoder): Encoder(\n",
      "    (relative_embedding): RelativeEmbedding(\n",
      "      (relative_layer_norm): LayerNorm((1024,), eps=1e-07, elementwise_affine=True)\n",
      "    )\n",
      "    (layers): ModuleList(\n",
      "      (0-23): 24 x EncoderLayer(\n",
      "        (attention): Attention(\n",
      "          (in_proj_q): Linear(in_features=1024, out_features=1024, bias=True)\n",
      "          (in_proj_k): Linear(in_features=1024, out_features=1024, bias=True)\n",
      "          (in_proj_v): Linear(in_features=1024, out_features=1024, bias=True)\n",
      "          (out_proj): Linear(in_features=1024, out_features=1024, bias=True)\n",
      "          (pre_layer_norm): LayerNorm((1024,), eps=1e-07, elementwise_affine=False)\n",
      "          (post_layer_norm): LayerNorm((1024,), eps=1e-07, elementwise_affine=True)\n",
      "          (dropout): Dropout(p=0.0, inplace=False)\n",
      "        )\n",
      "        (mlp): FeedForward(\n",
      "          (mlp): Sequential(\n",
      "            (0): LayerNorm((1024,), eps=1e-07, elementwise_affine=False)\n",
      "            (1): Linear(in_features=1024, out_features=5460, bias=False)\n",
      "            (2): GeGLU()\n",
      "            (3): LayerNorm((2730,), eps=1e-07, elementwise_affine=False)\n",
      "            (4): Linear(in_features=2730, out_features=1024, bias=False)\n",
      "            (5): Dropout(p=0.0, inplace=False)\n",
      "          )\n",
      "        )\n",
      "      )\n",
      "    )\n",
      "  )\n",
      "  (decoder): Decoder(\n",
      "    (self_relative_embedding): RelativeEmbedding(\n",
      "      (relative_layer_norm): LayerNorm((1024,), eps=1e-07, elementwise_affine=True)\n",
      "    )\n",
      "    (cross_relative_embedding): RelativeEmbedding(\n",
      "      (relative_layer_norm): LayerNorm((1024,), eps=1e-07, elementwise_affine=True)\n",
      "    )\n",
      "    (layers): ModuleList(\n",
      "      (0-23): 24 x DecoderLayer(\n",
      "        (self_attention): Attention(\n",
      "          (in_proj_q): Linear(in_features=1024, out_features=1024, bias=True)\n",
      "          (in_proj_k): Linear(in_features=1024, out_features=1024, bias=True)\n",
      "          (in_proj_v): Linear(in_features=1024, out_features=1024, bias=True)\n",
      "          (out_proj): Linear(in_features=1024, out_features=1024, bias=True)\n",
      "          (pre_layer_norm): LayerNorm((1024,), eps=1e-07, elementwise_affine=False)\n",
      "          (post_layer_norm): LayerNorm((1024,), eps=1e-07, elementwise_affine=True)\n",
      "          (dropout): Dropout(p=0.0, inplace=False)\n",
      "        )\n",
      "        (cross_attention): Attention(\n",
      "          (in_proj_q): Linear(in_features=1024, out_features=1024, bias=True)\n",
      "          (in_proj_k): Linear(in_features=1024, out_features=1024, bias=True)\n",
      "          (in_proj_v): Linear(in_features=1024, out_features=1024, bias=True)\n",
      "          (out_proj): Linear(in_features=1024, out_features=1024, bias=True)\n",
      "          (pre_layer_norm): LayerNorm((1024,), eps=1e-07, elementwise_affine=False)\n",
      "          (post_layer_norm): LayerNorm((1024,), eps=1e-07, elementwise_affine=True)\n",
      "          (dropout): Dropout(p=0.0, inplace=False)\n",
      "        )\n",
      "        (mlp): FeedForward(\n",
      "          (mlp): Sequential(\n",
      "            (0): LayerNorm((1024,), eps=1e-07, elementwise_affine=False)\n",
      "            (1): Linear(in_features=1024, out_features=5460, bias=False)\n",
      "            (2): GeGLU()\n",
      "            (3): LayerNorm((2730,), eps=1e-07, elementwise_affine=False)\n",
      "            (4): Linear(in_features=2730, out_features=1024, bias=False)\n",
      "            (5): Dropout(p=0.0, inplace=False)\n",
      "          )\n",
      "        )\n",
      "      )\n",
      "    )\n",
      "  )\n",
      "  (classifier): MaskClassifier(\n",
      "    (nonlinearity): Sequential(\n",
      "      (0): LayerNorm((1024,), eps=1e-07, elementwise_affine=False)\n",
      "      (1): Dropout(p=0.0, inplace=False)\n",
      "      (2): Linear(in_features=1024, out_features=50000, bias=True)\n",
      "    )\n",
      "  )\n",
      ")\n"
     ]
    },
    {
     "name": "stderr",
     "output_type": "stream",
     "text": [
      "\n"
     ]
    },
    {
     "ename": "TypeError",
     "evalue": "NorT5ForConditionalGeneration.forward() got an unexpected keyword argument 'token_type_ids'",
     "output_type": "error",
     "traceback": [
      "\u001b[0;31m---------------------------------------------------------------------------\u001b[0m",
      "\u001b[0;31mTypeError\u001b[0m                                 Traceback (most recent call last)",
      "Cell \u001b[0;32mIn[4], line 20\u001b[0m\n\u001b[1;32m     17\u001b[0m input_dict \u001b[39m=\u001b[39m tokenizer\u001b[39m.\u001b[39mencode_plus(question, context, return_tensors\u001b[39m=\u001b[39m\u001b[39m'\u001b[39m\u001b[39mpt\u001b[39m\u001b[39m'\u001b[39m)\n\u001b[1;32m     18\u001b[0m input_ids \u001b[39m=\u001b[39m input_dict[\u001b[39m\"\u001b[39m\u001b[39minput_ids\u001b[39m\u001b[39m\"\u001b[39m]\u001b[39m.\u001b[39mtolist()[\u001b[39m0\u001b[39m]\n\u001b[0;32m---> 20\u001b[0m outputs \u001b[39m=\u001b[39m model(\u001b[39m*\u001b[39;49m\u001b[39m*\u001b[39;49minput_dict)\n\u001b[1;32m     21\u001b[0m answer_start_scores, answer_end_scores \u001b[39m=\u001b[39m outputs\u001b[39m.\u001b[39mstart_logits, outputs\u001b[39m.\u001b[39mend_logits\n\u001b[1;32m     23\u001b[0m \u001b[39m# Finner start- og sluttposisjonen for svaret i kontekstteksten\u001b[39;00m\n",
      "File \u001b[0;32m/opt/homebrew/lib/python3.11/site-packages/torch/nn/modules/module.py:1518\u001b[0m, in \u001b[0;36mModule._wrapped_call_impl\u001b[0;34m(self, *args, **kwargs)\u001b[0m\n\u001b[1;32m   1516\u001b[0m     \u001b[39mreturn\u001b[39;00m \u001b[39mself\u001b[39m\u001b[39m.\u001b[39m_compiled_call_impl(\u001b[39m*\u001b[39margs, \u001b[39m*\u001b[39m\u001b[39m*\u001b[39mkwargs)  \u001b[39m# type: ignore[misc]\u001b[39;00m\n\u001b[1;32m   1517\u001b[0m \u001b[39melse\u001b[39;00m:\n\u001b[0;32m-> 1518\u001b[0m     \u001b[39mreturn\u001b[39;00m \u001b[39mself\u001b[39;49m\u001b[39m.\u001b[39;49m_call_impl(\u001b[39m*\u001b[39;49margs, \u001b[39m*\u001b[39;49m\u001b[39m*\u001b[39;49mkwargs)\n",
      "File \u001b[0;32m/opt/homebrew/lib/python3.11/site-packages/torch/nn/modules/module.py:1527\u001b[0m, in \u001b[0;36mModule._call_impl\u001b[0;34m(self, *args, **kwargs)\u001b[0m\n\u001b[1;32m   1522\u001b[0m \u001b[39m# If we don't have any hooks, we want to skip the rest of the logic in\u001b[39;00m\n\u001b[1;32m   1523\u001b[0m \u001b[39m# this function, and just call forward.\u001b[39;00m\n\u001b[1;32m   1524\u001b[0m \u001b[39mif\u001b[39;00m \u001b[39mnot\u001b[39;00m (\u001b[39mself\u001b[39m\u001b[39m.\u001b[39m_backward_hooks \u001b[39mor\u001b[39;00m \u001b[39mself\u001b[39m\u001b[39m.\u001b[39m_backward_pre_hooks \u001b[39mor\u001b[39;00m \u001b[39mself\u001b[39m\u001b[39m.\u001b[39m_forward_hooks \u001b[39mor\u001b[39;00m \u001b[39mself\u001b[39m\u001b[39m.\u001b[39m_forward_pre_hooks\n\u001b[1;32m   1525\u001b[0m         \u001b[39mor\u001b[39;00m _global_backward_pre_hooks \u001b[39mor\u001b[39;00m _global_backward_hooks\n\u001b[1;32m   1526\u001b[0m         \u001b[39mor\u001b[39;00m _global_forward_hooks \u001b[39mor\u001b[39;00m _global_forward_pre_hooks):\n\u001b[0;32m-> 1527\u001b[0m     \u001b[39mreturn\u001b[39;00m forward_call(\u001b[39m*\u001b[39;49margs, \u001b[39m*\u001b[39;49m\u001b[39m*\u001b[39;49mkwargs)\n\u001b[1;32m   1529\u001b[0m \u001b[39mtry\u001b[39;00m:\n\u001b[1;32m   1530\u001b[0m     result \u001b[39m=\u001b[39m \u001b[39mNone\u001b[39;00m\n",
      "\u001b[0;31mTypeError\u001b[0m: NorT5ForConditionalGeneration.forward() got an unexpected keyword argument 'token_type_ids'"
     ]
    }
   ],
   "source": [
    "import torch\n",
    "from transformers import AutoTokenizer, AutoModelForQuestionAnswering\n",
    "\n",
    "from transformers import AutoTokenizer, AutoModelForSeq2SeqLM\n",
    "\n",
    "\n",
    "tokenizer = AutoTokenizer.from_pretrained(\"ltg/nort5-large\")\n",
    "model = AutoModelForSeq2SeqLM.from_pretrained(\"ltg/nort5-large\", trust_remote_code=True)\n",
    "\n",
    "print(model)\n",
    "\n",
    "# Konteksttekst og spørsmål\n",
    "context = \"Nå ønsker de seg en moderne bolig. Den bør være romslig og godt isolert.\"\n",
    "question = \"Hva slags bolig ønsker de seg?\"\n",
    "\n",
    "# Kode for å behandle og kjøre modellen\n",
    "input_dict = tokenizer.encode_plus(question, context, return_tensors='pt')\n",
    "input_ids = input_dict[\"input_ids\"].tolist()[0]\n",
    "\n",
    "outputs = model(**input_dict)\n",
    "answer_start_scores, answer_end_scores = outputs.start_logits, outputs.end_logits\n",
    "\n",
    "# Finner start- og sluttposisjonen for svaret i kontekstteksten\n",
    "answer_start = torch.argmax(answer_start_scores)\n",
    "answer_end = torch.argmax(answer_end_scores) + 1\n",
    "\n",
    "# Konverterer ID-ene tilbake til tekst\n",
    "# answer = tokenizer.convert_tokens_to_string(tokenizer.convert_ids_to_tokens(input_ids[answer_start:answer_end]))\n",
    "answer = tokenizer.convert_tokens_to_string(tokenizer.convert_ids_to_tokens(input_ids))\n",
    "\n",
    "print(answer)\n"
   ]
  }
 ],
 "metadata": {
  "kernelspec": {
   "display_name": "Python 3",
   "language": "python",
   "name": "python3"
  },
  "language_info": {
   "codemirror_mode": {
    "name": "ipython",
    "version": 3
   },
   "file_extension": ".py",
   "mimetype": "text/x-python",
   "name": "python",
   "nbconvert_exporter": "python",
   "pygments_lexer": "ipython3",
   "version": "3.11.6"
  },
  "orig_nbformat": 4
 },
 "nbformat": 4,
 "nbformat_minor": 2
}
