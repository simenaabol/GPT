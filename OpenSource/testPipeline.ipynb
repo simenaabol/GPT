{
 "cells": [
  {
   "cell_type": "code",
   "execution_count": 28,
   "metadata": {},
   "outputs": [],
   "source": [
    "# Model name\n",
    "\n",
    "# model_name = 'bert-large-uncased-whole-word-masking-finetuned-squad'\n",
    "#  1.5 sek\n",
    "#  Engelsk\n",
    "#  1/ 2 poeng\n",
    "#  Norsk\n",
    "#  2/ 2 poeng\n",
    "\n",
    "\n",
    "# model_name = 'ltg/norbert3-large'\n",
    "#  2.3 sek\n",
    "#  Engelsk\n",
    "#  0?/ 2 poeng\n",
    "#  Norsk\n",
    "#  0?/ 2 poeng\n",
    "\n",
    "model_name = 'microsoft/DialoGPT-small'\n",
    "#  0 sek\n",
    "#  Engelsk\n",
    "#  0/ 2 poeng\n",
    "#  Norsk\n",
    "#  0/ 2 poeng\n",
    "\n",
    "\n",
    "\n",
    "\n",
    "# model_name = 'lmsys/vicuna-13b-v1.5-16k'\n",
    "#   sek\n",
    "#  Engelsk\n",
    "#  0?/ 2 poeng\n",
    "#  Norsk\n",
    "#  0?/ 2 poeng\n",
    "\n",
    "# model_name = 'pankajmathur/orca_mini_v3_7b'\n",
    "#   sek\n",
    "#  Engelsk\n",
    "#  0?/ 2 poeng\n",
    "#  Norsk\n",
    "#  0?/ 2 poeng\n",
    "\n"
   ]
  },
  {
   "cell_type": "code",
   "execution_count": 32,
   "metadata": {},
   "outputs": [
    {
     "name": "stderr",
     "output_type": "stream",
     "text": [
      "generation_config.json: 100%|██████████| 124/124 [00:00<00:00, 640kB/s]\n"
     ]
    }
   ],
   "source": [
    "from transformers import AlbertTokenizer, AlbertForQuestionAnswering, AutoModelForSeq2SeqLM, AutoTokenizer, AutoModelForQuestionAnswering, AutoModelForCausalLM\n",
    "import torch\n",
    "# model = AutoModelForQuestionAnswering.from_pretrained(model_name, trust_remote_code=True)\n",
    "model = AutoModelForCausalLM.from_pretrained(model_name, trust_remote_code=True)\n",
    "tokenizer = AutoTokenizer.from_pretrained(model_name,  trust_remote_code=True)\n"
   ]
  },
  {
   "cell_type": "code",
   "execution_count": 33,
   "metadata": {},
   "outputs": [],
   "source": [
    "def get_answer(text, question):\n",
    "    # Tokenize the input text and question\n",
    "    inputs = tokenizer(question, text, return_tensors='pt', max_length=512, truncation=True)\n",
    "    outputs = model(**inputs)\n",
    "    # Get the start and end scores for the answer\n",
    "    answer_start = torch.argmax(outputs.start_logits)\n",
    "    answer_end = torch.argmax(outputs.end_logits) + 1\n",
    "    answer = tokenizer.convert_tokens_to_string(tokenizer.convert_ids_to_tokens(inputs['input_ids'][0][answer_start:answer_end]))\n",
    "    # answer = tokenizer.convert_tokens_to_string(tokenizer.convert_ids_to_tokens(inputs['input_ids'][0]))\n",
    "    return answer\n",
    "\n",
    "\n",
    "\n"
   ]
  },
  {
   "cell_type": "code",
   "execution_count": 66,
   "metadata": {},
   "outputs": [
    {
     "name": "stdout",
     "output_type": "stream",
     "text": [
      "SHOULD BE 'Stig':        sometimes he\n",
      "SHOULD NOT BE 'Stig':    sometimes he\n",
      "Bør være 'Stig':         \n",
      "Bør ikke være 'Stig':    \n"
     ]
    }
   ],
   "source": [
    "# Engelsk\n",
    "context = \"\"\"\n",
    "Stig is the boss at Aboveit. He is a very capable boss, and sometimes he laughs at jokes.\n",
    "\"\"\"\n",
    "question = \"Hello, who is the boss at Aboveit?\"\n",
    "answer = get_answer(context, question)\n",
    "print(f\"SHOULD BE 'Stig':        {answer}\")\n",
    "\n",
    "context = \"\"\"\n",
    "Stig is not the boss at Aboveit. He is a very capable boss, and sometimes he laughs at jokes.\n",
    "\"\"\"\n",
    "question = \"Hello, who is the boss at Aboveit?\"\n",
    "answer = get_answer(context, question)\n",
    "print(f\"SHOULD NOT BE 'Stig':    {answer}\")\n",
    "\n",
    "\n",
    "context = \"\"\"\n",
    "Stig er sjef i Aboveit. Han er en veldig dyktig sjef, og av og til ler han av vitser.\n",
    "\"\"\"\n",
    "question = \"Hei, hvem er sjefen i Aboveit?\"\n",
    "answer = get_answer(context, question)\n",
    "print(f\"Bør være 'Stig':         {answer}\")\n",
    "\n",
    "context = \"\"\"\n",
    "Stig er ikke sjef i Aboveit. Han er en veldig dyktig sjef, og av og til ler han av vitser.\n",
    "\"\"\"\n",
    "question = \"Hei, hvem er sjefen i Aboveit?\"\n",
    "answer = get_answer(context, question)\n",
    "print(f\"Bør ikke være 'Stig':    {answer}\")\n",
    "\n",
    "\n",
    "\n"
   ]
  }
 ],
 "metadata": {
  "kernelspec": {
   "display_name": "Python 3",
   "language": "python",
   "name": "python3"
  },
  "language_info": {
   "codemirror_mode": {
    "name": "ipython",
    "version": 3
   },
   "file_extension": ".py",
   "mimetype": "text/x-python",
   "name": "python",
   "nbconvert_exporter": "python",
   "pygments_lexer": "ipython3",
   "version": "3.11.6"
  },
  "orig_nbformat": 4
 },
 "nbformat": 4,
 "nbformat_minor": 2
}
