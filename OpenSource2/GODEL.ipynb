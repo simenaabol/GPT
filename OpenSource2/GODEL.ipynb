{
 "cells": [
  {
   "cell_type": "code",
   "execution_count": 1,
   "metadata": {},
   "outputs": [
    {
     "name": "stderr",
     "output_type": "stream",
     "text": [
      "/opt/homebrew/lib/python3.11/site-packages/tqdm/auto.py:21: TqdmWarning: IProgress not found. Please update jupyter and ipywidgets. See https://ipywidgets.readthedocs.io/en/stable/user_install.html\n",
      "  from .autonotebook import tqdm as notebook_tqdm\n",
      "tokenizer_config.json: 100%|██████████| 2.36k/2.36k [00:00<00:00, 8.53MB/s]\n",
      "tokenizer.json: 100%|██████████| 2.42M/2.42M [00:00<00:00, 3.95MB/s]\n",
      "added_tokens.json: 100%|██████████| 37.0/37.0 [00:00<00:00, 169kB/s]\n",
      "special_tokens_map.json: 100%|██████████| 2.20k/2.20k [00:00<00:00, 13.6MB/s]\n",
      "config.json: 100%|██████████| 1.49k/1.49k [00:00<00:00, 10.1MB/s]\n",
      "pytorch_model.bin: 100%|██████████| 892M/892M [01:28<00:00, 10.0MB/s] \n",
      "generation_config.json: 100%|██████████| 147/147 [00:00<00:00, 500kB/s]\n"
     ]
    }
   ],
   "source": [
    "from transformers import AutoTokenizer, AutoModelForSeq2SeqLM\n",
    "\n",
    "# 1.5 min to load\n",
    "tokenizer = AutoTokenizer.from_pretrained(\"microsoft/GODEL-v1_1-base-seq2seq\")\n",
    "model = AutoModelForSeq2SeqLM.from_pretrained(\"microsoft/GODEL-v1_1-base-seq2seq\")"
   ]
  },
  {
   "cell_type": "code",
   "execution_count": 5,
   "metadata": {},
   "outputs": [
    {
     "name": "stdout",
     "output_type": "stream",
     "text": [
      "Its sunny today. Its getting really hot and sunny\n"
     ]
    }
   ],
   "source": [
    "\n",
    "\n",
    "def generate(instruction, knowledge, dialog):\n",
    "    if knowledge != '':\n",
    "        knowledge = '[KNOWLEDGE] ' + knowledge\n",
    "    dialog = ' EOS '.join(dialog)\n",
    "    query = f\"{instruction} [CONTEXT] {dialog} {knowledge}\"\n",
    "    input_ids = tokenizer(f\"{query}\", return_tensors=\"pt\").input_ids\n",
    "    outputs = model.generate(input_ids, max_length=128, min_length=8, top_p=0.9, do_sample=True)\n",
    "    output = tokenizer.decode(outputs[0], skip_special_tokens=True)\n",
    "    return output\n",
    "\n",
    "# Instruction for a chitchat task\n",
    "instruction = f'Instruction: given a dialog context, you need to response empathically.'\n",
    "# Leave the knowldge empty\n",
    "knowledge = 'Its sunny in Oslo today.'\n",
    "dialog = [\n",
    "    'Whats the weather in oslo tomorrow?',\n",
    "]\n",
    "response = generate(instruction, knowledge, dialog)\n",
    "print(response)\n"
   ]
  }
 ],
 "metadata": {
  "kernelspec": {
   "display_name": "Python 3",
   "language": "python",
   "name": "python3"
  },
  "language_info": {
   "codemirror_mode": {
    "name": "ipython",
    "version": 3
   },
   "file_extension": ".py",
   "mimetype": "text/x-python",
   "name": "python",
   "nbconvert_exporter": "python",
   "pygments_lexer": "ipython3",
   "version": "3.11.6"
  },
  "orig_nbformat": 4
 },
 "nbformat": 4,
 "nbformat_minor": 2
}
