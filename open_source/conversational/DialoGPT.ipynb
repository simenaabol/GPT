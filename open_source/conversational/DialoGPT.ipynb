{
 "cells": [
  {
   "cell_type": "code",
   "execution_count": 2,
   "metadata": {},
   "outputs": [
    {
     "name": "stderr",
     "output_type": "stream",
     "text": [
      "/opt/homebrew/lib/python3.11/site-packages/tqdm/auto.py:21: TqdmWarning: IProgress not found. Please update jupyter and ipywidgets. See https://ipywidgets.readthedocs.io/en/stable/user_install.html\n",
      "  from .autonotebook import tqdm as notebook_tqdm\n"
     ]
    }
   ],
   "source": [
    "from transformers import AutoModelForCausalLM, AutoTokenizer\n",
    "import torch\n",
    "\n",
    "# Load DialoGPT model and tokenizer\n",
    "tokenizer = AutoTokenizer.from_pretrained(\"microsoft/DialoGPT-large\")\n",
    "model = AutoModelForCausalLM.from_pretrained(\"microsoft/DialoGPT-large\")\n",
    "\n"
   ]
  },
  {
   "cell_type": "code",
   "execution_count": 7,
   "metadata": {},
   "outputs": [
    {
     "name": "stderr",
     "output_type": "stream",
     "text": [
      "A decoder-only architecture is being used, but right-padding was detected! For correct generation results, please set `padding_side='left'` when initializing the tokenizer.\n"
     ]
    },
    {
     "name": "stdout",
     "output_type": "stream",
     "text": [
      "tensor([[ 1273,   328,   318,   262,  6478,   379, 23302,   270,    13,   679,\n",
      "           318,   257,   845,  6007,  6478,    11,   290,  3360,   339, 22051,\n",
      "           379, 14532,    13, 18435,    11,   508,   318,   262,  6478,   379,\n",
      "         23302,   270,    30, 50256]])\n",
      "DialoGPT: I'm the boss at Aboveit.\n"
     ]
    }
   ],
   "source": [
    "def chat_with_dialogpt_single_exchange(context, question):\n",
    "    # Combine context and question, and then encode them\n",
    "    input_text = context + \" \" + question + tokenizer.eos_token\n",
    "    # [EOS]\n",
    "    new_user_input_ids = tokenizer.encode(input_text, return_tensors='pt')\n",
    "    print(new_user_input_ids)\n",
    "\n",
    "    # Generate a response from the model\n",
    "    chat_history_ids = model.generate(new_user_input_ids, max_length=1000, pad_token_id=tokenizer.eos_token_id)\n",
    "\n",
    "    # Decode and print the response\n",
    "    response = tokenizer.decode(chat_history_ids[:, new_user_input_ids.shape[-1]:][0], skip_special_tokens=True)\n",
    "    return response\n",
    "\n",
    "# Example usage\n",
    "context = \"Stig is the boss at Aboveit. He is a very capable boss, and sometimes he laughs at jokes.\"\n",
    "question = \"Hello, who is the boss at Aboveit?\"\n",
    "response = chat_with_dialogpt_single_exchange(context, question)\n",
    "print(\"DialoGPT:\", response)\n"
   ]
  }
 ],
 "metadata": {
  "kernelspec": {
   "display_name": "Python 3",
   "language": "python",
   "name": "python3"
  },
  "language_info": {
   "codemirror_mode": {
    "name": "ipython",
    "version": 3
   },
   "file_extension": ".py",
   "mimetype": "text/x-python",
   "name": "python",
   "nbconvert_exporter": "python",
   "pygments_lexer": "ipython3",
   "version": "3.11.6"
  },
  "orig_nbformat": 4
 },
 "nbformat": 4,
 "nbformat_minor": 2
}
