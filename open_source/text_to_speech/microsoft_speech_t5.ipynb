{
 "cells": [
  {
   "cell_type": "markdown",
   "metadata": {},
   "source": [
    "# Kjøre modellen lokalt\n",
    "### Laste inn modellen fra Hugging Face"
   ]
  },
  {
   "cell_type": "code",
   "execution_count": 5,
   "metadata": {},
   "outputs": [],
   "source": [
    "from transformers import pipeline\n",
    "from datasets import load_dataset\n",
    "import soundfile as sf\n",
    "import torch\n",
    "\n",
    "synthesiser = pipeline(\"text-to-speech\", \"microsoft/speecht5_tts\")\n",
    "\n",
    "embeddings_dataset = load_dataset(\"Matthijs/cmu-arctic-xvectors\", split=\"validation\")\n",
    "speaker_embedding = torch.tensor(embeddings_dataset[7306][\"xvector\"]).unsqueeze(0)\n",
    "\n"
   ]
  },
  {
   "cell_type": "code",
   "execution_count": 6,
   "metadata": {},
   "outputs": [],
   "source": [
    "speech = synthesiser(\"Hello, what are you drawing pa!\", forward_params={\"speaker_embeddings\": speaker_embedding})\n",
    "\n",
    "sf.write(\"speech.wav\", speech[\"audio\"], samplerate=speech[\"sampling_rate\"])"
   ]
  },
  {
   "cell_type": "code",
   "execution_count": 7,
   "metadata": {},
   "outputs": [],
   "source": [
    "# speech = synthesiser(\"Hello, wath are you drawnig papa!\", forward_params={\"speaker_embeddings\": speaker_embedding})\n",
    "speech = synthesiser(\"Hello, wath are you drawnig papa!\", forward_params={\"speaker_embeddings\": speaker_embedding})\n",
    "\n",
    "sf.write(\"speechSpelling.wav\", speech[\"audio\"], samplerate=speech[\"sampling_rate\"])"
   ]
  },
  {
   "cell_type": "code",
   "execution_count": 1,
   "metadata": {},
   "outputs": [
    {
     "ename": "NameError",
     "evalue": "name 'synthesiser' is not defined",
     "output_type": "error",
     "traceback": [
      "\u001b[0;31m---------------------------------------------------------------------------\u001b[0m",
      "\u001b[0;31mNameError\u001b[0m                                 Traceback (most recent call last)",
      "Cell \u001b[0;32mIn[1], line 2\u001b[0m\n\u001b[1;32m      1\u001b[0m \u001b[39m# speech = synthesiser(\"Hello, wath are you drawnig papa!\", forward_params={\"speaker_embeddings\": speaker_embedding})\u001b[39;00m\n\u001b[0;32m----> 2\u001b[0m speech \u001b[39m=\u001b[39m synthesiser(\u001b[39m\"\u001b[39m\u001b[39mHei, hva tegner du pappa?\u001b[39m\u001b[39m\"\u001b[39m, forward_params\u001b[39m=\u001b[39m{\u001b[39m\"\u001b[39m\u001b[39mspeaker_embeddings\u001b[39m\u001b[39m\"\u001b[39m: speaker_embedding})\n\u001b[1;32m      3\u001b[0m \u001b[39m# Fungerer ikke\u001b[39;00m\n\u001b[1;32m      5\u001b[0m sf\u001b[39m.\u001b[39mwrite(\u001b[39m\"\u001b[39m\u001b[39msound/speechNorsk.wav\u001b[39m\u001b[39m\"\u001b[39m, speech[\u001b[39m\"\u001b[39m\u001b[39maudio\u001b[39m\u001b[39m\"\u001b[39m], samplerate\u001b[39m=\u001b[39mspeech[\u001b[39m\"\u001b[39m\u001b[39msampling_rate\u001b[39m\u001b[39m\"\u001b[39m])\n",
      "\u001b[0;31mNameError\u001b[0m: name 'synthesiser' is not defined"
     ]
    }
   ],
   "source": [
    "# speech = synthesiser(\"Hello, wath are you drawnig papa!\", forward_params={\"speaker_embeddings\": speaker_embedding})\n",
    "speech = synthesiser(\"Hei, hva tegner du pappa?\", forward_params={\"speaker_embeddings\": speaker_embedding})\n",
    "# Fungerer ikke\n",
    "\n",
    "sf.write(\"sound/speechNorsk.wav\", speech[\"audio\"], samplerate=speech[\"sampling_rate\"])"
   ]
  },
  {
   "cell_type": "code",
   "execution_count": 2,
   "metadata": {},
   "outputs": [
    {
     "name": "stderr",
     "output_type": "stream",
     "text": [
      "/opt/homebrew/lib/python3.11/site-packages/tqdm/auto.py:21: TqdmWarning: IProgress not found. Please update jupyter and ipywidgets. See https://ipywidgets.readthedocs.io/en/stable/user_install.html\n",
      "  from .autonotebook import tqdm as notebook_tqdm\n"
     ]
    }
   ],
   "source": [
    "from transformers import pipeline\n",
    "from datasets import load_dataset\n",
    "import soundfile as sf\n",
    "import torch\n",
    "\n",
    "synthesiser = pipeline(\"text-to-speech\", \"microsoft/speecht5_tts\")\n",
    "\n",
    "embeddings_dataset = load_dataset(\"Matthijs/cmu-arctic-xvectors\", split=\"validation\")\n",
    "speaker_embedding = torch.tensor(embeddings_dataset[7306][\"xvector\"]).unsqueeze(0)\n",
    "\n"
   ]
  },
  {
   "cell_type": "code",
   "execution_count": 8,
   "metadata": {},
   "outputs": [],
   "source": [
    "# speech = synthesiser(\"Hello, what are you drawing pa!\", forward_params={\"speaker_embeddings\": speaker_embedding})\n",
    "speech = synthesiser(\"The Norwegians are northerners, trundlers, southerners and people from all other regions. The Norwegians are also immigrants from Afghanistan, Pakistan, Poland, Sweden, Somalia and Syria. The The Norwegians are girls who are fond of girls, boys who are fond of boys, and girls and boys who are fond of each other. The Norwegians believe in God, Allah, everything and nothing. The Norwegians like Grieg, Hugo, Helbylis and Kari Bremnes. In other words, Norway is you. Norway is us. My biggest hope for Norway is that we will be able to take care of each other.\", forward_params={\"speaker_embeddings\": speaker_embedding})\n",
    "# speech = synthesiser(\"Hei, hva tegner du pappa?\", forward_params={\"speaker_embeddings\": speaker_embedding})\n",
    "\n",
    "sf.write(\"sound/king's_speech_2.wav\", speech[\"audio\"], samplerate=speech[\"sampling_rate\"])\n",
    "\n",
    "# scipy.io.wavfile.write(\"sound/king's_speech_2.wav\", rate=model.config.sampling_rate, data=output_np[0])\n"
   ]
  },
  {
   "cell_type": "markdown",
   "metadata": {},
   "source": [
    "The Norwegians are northerners, trundlers, southerners and people from all other regions. The Norwegians are also immigrants from Afghanistan, Pakistan, Poland, Sweden, Somalia and Syria. The The Norwegians are girls who are fond of girls, boys who are fond of boys, and girls and boys who are fond of each other. The Norwegians believe in God, Allah, everything and nothing. The Norwegians like Grieg, Hugo, Helbylis and Kari Bremnes. In other words, Norway is you. Norway is us. My biggest hope for Norway is that we will be able to take care of each other. That we will continue to build this country on trust, community and generosity."
   ]
  }
 ],
 "metadata": {
  "kernelspec": {
   "display_name": "Python 3",
   "language": "python",
   "name": "python3"
  },
  "language_info": {
   "codemirror_mode": {
    "name": "ipython",
    "version": 3
   },
   "file_extension": ".py",
   "mimetype": "text/x-python",
   "name": "python",
   "nbconvert_exporter": "python",
   "pygments_lexer": "ipython3",
   "version": "3.11.6"
  },
  "orig_nbformat": 4
 },
 "nbformat": 4,
 "nbformat_minor": 2
}
